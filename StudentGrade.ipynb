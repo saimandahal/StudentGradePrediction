{
 "cells": [
  {
   "cell_type": "code",
   "execution_count": 1,
   "id": "8a02fa2e",
   "metadata": {},
   "outputs": [],
   "source": [
    "# Importing libraries\n",
    "import io\n",
    "import pandas as pd\n",
    "import numpy as np\n",
    "import matplotlib.pyplot as plt\n",
    "import seaborn as sns\n",
    "from sklearn.preprocessing import LabelEncoder\n",
    "import pandas as pd\n",
    "import time\n",
    "from sklearn.ensemble import RandomForestClassifier\n",
    "from sklearn.tree import DecisionTreeClassifier\n",
    "from sklearn import tree\n",
    "from six import StringIO\n",
    "from IPython.display import Image\n",
    "from sklearn.svm import LinearSVC\n",
    "from numpy.ma.core import sqrt\n",
    "from sklearn.model_selection import GridSearchCV, cross_val_score, train_test_split\n",
    "from numpy.polynomial.polynomial import polyfit\n",
    "from sklearn.metrics import (\n",
    "    accuracy_score,\n",
    "    classification_report,\n",
    "    mean_squared_error,\n",
    "    r2_score,\n",
    "    mean_absolute_error,\n",
    "    confusion_matrix\n",
    ")"
   ]
  },
  {
   "cell_type": "code",
   "execution_count": 56,
   "id": "a1546a88",
   "metadata": {},
   "outputs": [
    {
     "data": {
      "text/plain": [
       "(790, 33)"
      ]
     },
     "execution_count": 56,
     "metadata": {},
     "output_type": "execute_result"
    }
   ],
   "source": [
    "# Dataset\n",
    "dFrame= pd.read_csv('studentGrade.csv')\n",
    "dFrame.shape"
   ]
  },
  {
   "cell_type": "code",
   "execution_count": 3,
   "id": "7fef177f",
   "metadata": {},
   "outputs": [
    {
     "data": {
      "text/plain": [
       "(790, 26)"
      ]
     },
     "execution_count": 3,
     "metadata": {},
     "output_type": "execute_result"
    }
   ],
   "source": [
    "# DataPreprocessing\n",
    "temp= dFrame.copy()\n",
    "temp.drop(['school', 'address', 'famsize', 'Mjob', 'Fjob', 'reason', 'guardian'],axis=1 , inplace=True)\n",
    "categorical = ['sex' , 'Pstatus' , 'schoolsup' , 'famsup', 'paid' , 'activities' , 'nursery' , 'higher' , 'internet' , 'romantic']\n",
    "le = LabelEncoder()\n",
    "temp[categorical] = temp[categorical].apply(lambda col: le.fit_transform(col))\n",
    "temp.shape"
   ]
  },
  {
   "cell_type": "code",
   "execution_count": 57,
   "id": "d3ed6eaf",
   "metadata": {},
   "outputs": [],
   "source": [
    "# Visualization\n",
    "# sns.boxplot(y=temp['G3'])\n",
    "# sns.pairplot(temp,kind='scatter',hue='G3')\n"
   ]
  },
  {
   "cell_type": "code",
   "execution_count": null,
   "id": "960200fb",
   "metadata": {},
   "outputs": [],
   "source": []
  },
  {
   "cell_type": "code",
   "execution_count": 4,
   "id": "f4bc59e3",
   "metadata": {},
   "outputs": [
    {
     "data": {
      "text/plain": [
       "((711, 4), (79, 4))"
      ]
     },
     "execution_count": 4,
     "metadata": {},
     "output_type": "execute_result"
    }
   ],
   "source": [
    "from sklearn.model_selection import train_test_split\n",
    "\n",
    "df2 = temp[['G1', 'G2', 'G3', 'absences', 'failures']]\n",
    "\n",
    "X = df2.drop('G3', axis=1)\n",
    "y = df2['G3']\n",
    "\n",
    "X_train, X_test, y_train, y_test = train_test_split(X, y, test_size=0.1, random_state= 42)\n",
    "X_train.shape, X_test.shape"
   ]
  },
  {
   "cell_type": "code",
   "execution_count": 5,
   "id": "917ab074",
   "metadata": {},
   "outputs": [
    {
     "name": "stdout",
     "output_type": "stream",
     "text": [
      "DecisionTreeClassifier\n",
      "MSE:  2.9873417721518987\n",
      "Train Acc:  0.8973277074542897\n",
      "Test Acc:  0.7088607594936709\n",
      "Time:  0.05556750297546387\n",
      "RandomForestClassifier\n",
      "MSE:  2.9873417721518987\n",
      "Train Acc:  0.8973277074542897\n",
      "Test Acc:  0.7088607594936709\n",
      "Time:  0.23041677474975586\n"
     ]
    }
   ],
   "source": [
    "model1 = DecisionTreeClassifier()\n",
    "model2 = RandomForestClassifier()\n",
    "\n",
    "models = [model1, model2,  ]\n",
    "model_list = [ 'DecisionTreeClassifier','RandomForestClassifier']\n",
    "\n",
    "# Results\n",
    "results = pd.DataFrame(columns=[\"Test Accuracy\", \"Train Accuracy\"], index=model_list)\n",
    "\n",
    "# training the model\n",
    "\n",
    "for i, model in enumerate(models):\n",
    "    start = time.time()\n",
    "    \n",
    "    model.fit(X_train, y_train)\n",
    "\n",
    "    # Predictions on the test set\n",
    "    y_train_pred = model.predict(X_train)\n",
    "    y_test_pred = model.predict(X_test)\n",
    "\n",
    "    accuracy = accuracy_score(y_test, y_test_pred)\n",
    "    accuracy_train = accuracy_score(y_train, y_train_pred)\n",
    "\n",
    "\n",
    "    models = model_list[i]\n",
    "    results.loc[models, :] = [accuracy, accuracy_train ]\n",
    "    end = time.time()\n",
    "\n",
    "    print(models)\n",
    "    print(\"MSE: \", mean_squared_error(y_test, y_test_pred))\n",
    "    print(\"Train Acc: \", accuracy_train)\n",
    "    print(\"Test Acc: \", accuracy)\n",
    "    print(\"Time: \", end - start)\n",
    "\n"
   ]
  },
  {
   "cell_type": "code",
   "execution_count": null,
   "id": "6deeb961",
   "metadata": {},
   "outputs": [],
   "source": [
    "# Improved random forest\n"
   ]
  },
  {
   "cell_type": "code",
   "execution_count": 32,
   "id": "6674e6e9",
   "metadata": {},
   "outputs": [],
   "source": [
    "import numpy as np\n",
    "\n",
    "class ImprovedClassifier:\n",
    "    def __init__(self, n_estimators=100, max_features=None, max_depth=None, min_samples_split=2):\n",
    "        self.n_estimators = n_estimators\n",
    "        self.max_features = max_features\n",
    "        self.max_depth = max_depth\n",
    "        self.min_samples_split = min_samples_split\n",
    "        self.estimators = []\n",
    "\n",
    "    def fit(self, X, y):\n",
    "        n_samples, n_features = X.shape\n",
    "        self.estimators = []\n",
    "\n",
    "        for _ in range(self.n_estimators):\n",
    "            # Randomly select features\n",
    "            if self.max_features is None:\n",
    "                max_features = n_features\n",
    "            else:\n",
    "                max_features = min(self.max_features, n_features)\n",
    "\n",
    "            random_features = np.random.choice(n_features, max_features, replace=False)\n",
    "\n",
    "            random_samples = np.random.choice(n_samples, n_samples, replace=True)\n",
    "\n",
    "            # Subsample the dataset\n",
    "            X_subset = X[random_samples][:, random_features]\n",
    "            y_subset = y[random_samples]\n",
    "\n",
    "            tree = DecisionTree(max_depth=self.max_depth, min_samples_split=self.min_samples_split)\n",
    "            tree.fit(X_subset, y_subset)\n",
    "            self.estimators.append((tree, random_features))\n",
    "\n",
    "    def predict(self, X):\n",
    "        predictions = np.zeros((X.shape[0], len(self.estimators)), dtype=int)\n",
    "        \n",
    "        for i, (tree, features) in enumerate(self.estimators):\n",
    "            X_subset = X[:, features]\n",
    "            predictions[:, i] = tree.predict(X_subset)\n",
    "        \n",
    "        return np.mean(predictions, axis=1).round().astype(int)\n",
    "\n",
    "\n",
    "class DecisionTree:\n",
    "    def __init__(self, max_depth=None, min_samples_split=2):\n",
    "        self.max_depth = max_depth\n",
    "        self.min_samples_split = min_samples_split\n",
    "\n",
    "    def fit(self, X, y):\n",
    "        self.tree = self._grow_tree(X, y)\n",
    "\n",
    "    def _grow_tree(self, X, y, depth=0):\n",
    "        n_samples, n_features = X.shape\n",
    "        n_labels = len(np.unique(y))\n",
    "\n",
    "        # Stop criteria\n",
    "        if depth == self.max_depth or n_samples < self.min_samples_split or n_labels == 1:\n",
    "            return np.bincount(y).argmax()\n",
    "\n",
    "        # Find the best split\n",
    "        best_gini = np.inf\n",
    "        best_feature = None\n",
    "        best_threshold = None\n",
    "\n",
    "        for feature in range(n_features):\n",
    "            thresholds = np.unique(X[:, feature])\n",
    "\n",
    "            for threshold in thresholds:\n",
    "                left_indices = X[:, feature] < threshold\n",
    "                right_indices = ~left_indices\n",
    "\n",
    "                gini = self._gini_impurity(y[left_indices], y[right_indices])\n",
    "                if gini < best_gini:\n",
    "                    best_gini = gini\n",
    "                    best_feature = feature\n",
    "                    best_threshold = threshold\n",
    "\n",
    "        # Split the data\n",
    "        left_indices = X[:, best_feature] < best_threshold\n",
    "        right_indices = ~left_indices\n",
    "\n",
    "        left_tree = self._grow_tree(X[left_indices], y[left_indices], depth + 1)\n",
    "        right_tree = self._grow_tree(X[right_indices], y[right_indices], depth + 1)\n",
    "\n",
    "        return (best_feature, best_threshold, left_tree, right_tree)\n",
    "\n",
    "    def _gini_impurity(self, left_labels, right_labels):\n",
    "        p_left = len(left_labels) / (len(left_labels) + len(right_labels))\n",
    "        p_right = 1 - p_left\n",
    "\n",
    "        gini_left = 1 - sum((np.bincount(left_labels) / len(left_labels)) ** 2)\n",
    "        gini_right = 1 - sum((np.bincount(right_labels) / len(right_labels)) ** 2)\n",
    "\n",
    "        return p_left * gini_left + p_right * gini_right\n",
    "\n",
    "    def predict(self, X):\n",
    "        return np.array([self._predict_tree(x, self.tree) for x in X])\n",
    "\n",
    "    def _predict_tree(self, x, tree):\n",
    "        if isinstance(tree, int):\n",
    "            return tree\n",
    "\n",
    "        feature, threshold, left_tree, right_tree = tree\n",
    "\n",
    "        if x[feature] < threshold:\n",
    "            return self._predict_tree(x, left_tree)\n",
    "        else:\n",
    "            return self._predict_tree(x, right_tree)\n"
   ]
  },
  {
   "cell_type": "code",
   "execution_count": 7,
   "id": "e7e53674",
   "metadata": {},
   "outputs": [
    {
     "name": "stdout",
     "output_type": "stream",
     "text": [
      "Accuracy: 0.7658227848101266\n",
      "Training Accuracy: 0.8939873417721519\n",
      "Time: 0.14817380905151367\n"
     ]
    }
   ],
   "source": [
    "start = time.time()\n",
    "\n",
    "clf = ImprovedClassifier(n_estimators=100, max_depth=None, min_samples_split=2)\n",
    "clf.fit(X_train, y_train)\n",
    "\n",
    "end = time.time()\n",
    "# Predictions on the test set\n",
    "predictions = clf.predict(X_test)\n",
    "# Accuracy\n",
    "accuracy = accuracy_score(y_test, predictions)\n",
    "print(\"Accuracy:\", accuracy)\n",
    "\n",
    "train_predictions = clf.predict(X_train)\n",
    "\n",
    "train_accuracy = accuracy_score(y_train, train_predictions)\n",
    "\n",
    "print(\"Training Accuracy:\", train_accuracy)\n",
    "print(\"Time:\", end-start)\n",
    "\n"
   ]
  },
  {
   "cell_type": "code",
   "execution_count": null,
   "id": "e8645627",
   "metadata": {},
   "outputs": [],
   "source": []
  },
  {
   "cell_type": "code",
   "execution_count": 10,
   "id": "124f59ef",
   "metadata": {},
   "outputs": [
    {
     "data": {
      "image/png": "[encoded data removed]",
      "text/plain": [
       "<Figure size 800x800 with 1 Axes>"
      ]
     },
     "metadata": {},
     "output_type": "display_data"
    }
   ],
   "source": [
    "# Scatter plot\n",
    "fig, axes = plt.subplots(figsize=(8, 8))\n",
    "axes.scatter(y_test, predictions, color='blue', alpha=0.5)\n",
    "axes.plot([min(y_test), max(y_test)], [min(y_test), max(y_test)], color='red', linestyle='--')\n",
    "axes.set_title('Actual vs. Predicted Values')\n",
    "axes.set_xlabel('Actual Values')\n",
    "axes.set_ylabel('Predicted Values')\n",
    "\n",
    "plt.tight_layout()\n",
    "plt.show()\n"
   ]
  },
  {
   "cell_type": "code",
   "execution_count": null,
   "id": "0fbf71bb",
   "metadata": {},
   "outputs": [],
   "source": [
    "# ExtraTreesClassifier\n",
    "start = time.time()\n",
    "\n",
    "model = ExtraTreesClassifier(n_estimators=1000,  criterion='gini', max_depth=None, min_samples_split=2, min_samples_leaf=1, \n",
    "                       min_weight_fraction_leaf=0.0, max_features=1, max_leaf_nodes=None, min_impurity_decrease=0.0, \n",
    "                       bootstrap=True, oob_score=False, n_jobs=-1, random_state=42, verbose=0, \n",
    "                       warm_start=False, class_weight=None, ccp_alpha=0.0, max_samples=None)\n",
    "model.fit(X_train, y_train)\n",
    "\n",
    "# Predictions on the test set\n",
    "y_train_pred = model.predict(X_train)\n",
    "y_test_pred = model.predict(X_test)\n",
    "\n",
    "accuracy = accuracy_score(y_test, y_test_pred)\n",
    "accuracy_train = accuracy_score(y_train, y_train_pred)\n",
    "end = time.time()\n",
    "\n",
    "print(\"Training Accuracy: \", accuracy_train)\n",
    "print(\"Testing Accuracy: \", accuracy)\n",
    "print(\"Time Taken: \", end-start)"
   ]
  }
 ],
 "metadata": {
  "kernelspec": {
   "display_name": "Python 3 (ipykernel)",
   "language": "python",
   "name": "python3"
  },
  "language_info": {
   "codemirror_mode": {
    "name": "ipython",
    "version": 3
   },
   "file_extension": ".py",
   "mimetype": "text/x-python",
   "name": "python",
   "nbconvert_exporter": "python",
   "pygments_lexer": "ipython3",
   "version": "3.11.5"
  }
 },
 "nbformat": 4,
 "nbformat_minor": 5
}
